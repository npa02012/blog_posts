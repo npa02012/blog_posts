{
 "cells": [
  {
   "cell_type": "markdown",
   "metadata": {},
   "source": [
    "## Bit Wise Operations"
   ]
  },
  {
   "cell_type": "code",
   "execution_count": null,
   "metadata": {},
   "outputs": [],
   "source": [
    "print('Exlusive OR (XOR):')\n",
    "a = 9\n",
    "b = 17\n",
    "print(bin(a))\n",
    "print(bin(b))\n",
    "print(bin(a^b))\n",
    "\n",
    "print('\\nBitwise OR:')\n",
    "print(bin(a|b))\n",
    "\n",
    "print('\\nBitwise AND:')\n",
    "print(bin(a&b))"
   ]
  },
  {
   "cell_type": "markdown",
   "metadata": {},
   "source": [
    "## Problems\n",
    "\n",
    "Given a real number number between 0 and 1 (e.g. .25), print the binary (decimal) representation. Stop calculating if the representation exceeds 32 characters."
   ]
  },
  {
   "cell_type": "code",
   "execution_count": 29,
   "metadata": {},
   "outputs": [
    {
     "name": "stdout",
     "output_type": "stream",
     "text": [
      ".001\n",
      ".101\n",
      ".1\n",
      ".1111\n",
      "Early Stopping\n",
      ".1101010101010101010101010101010\n"
     ]
    }
   ],
   "source": [
    "def decToBinDec(dec):\n",
    "    if dec >=1 or dec <= 0: return False\n",
    "    curBin = .5\n",
    "    s = '.'\n",
    "    while len(s) < 32:\n",
    "        if dec == curBin:\n",
    "            s += '1'\n",
    "            return s\n",
    "        elif dec > curBin:\n",
    "            s += '1'\n",
    "            dec -= curBin\n",
    "        else:\n",
    "            s += '0'\n",
    "        curBin /= 2\n",
    "        \n",
    "    print('Early Stopping')\n",
    "    return s\n",
    "\n",
    "print(decToBinDec(1/8))\n",
    "print(decToBinDec(1/2 + 1/8))\n",
    "print(decToBinDec(1/2))\n",
    "print(decToBinDec(1/2 + 1/4 + 1/8 + 1/16))\n",
    "print(decToBinDec(1/2 + 1/3))"
   ]
  }
 ],
 "metadata": {
  "kernelspec": {
   "display_name": "Python 3",
   "language": "python",
   "name": "python3"
  },
  "language_info": {
   "codemirror_mode": {
    "name": "ipython",
    "version": 3
   },
   "file_extension": ".py",
   "mimetype": "text/x-python",
   "name": "python",
   "nbconvert_exporter": "python",
   "pygments_lexer": "ipython3",
   "version": "3.6.4"
  }
 },
 "nbformat": 4,
 "nbformat_minor": 4
}

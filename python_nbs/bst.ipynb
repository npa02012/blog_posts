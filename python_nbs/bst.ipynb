{
 "cells": [
  {
   "cell_type": "code",
   "execution_count": 75,
   "metadata": {},
   "outputs": [],
   "source": [
    "class TreeNode():\n",
    "    def __init__(self, val=-1, left=None, right=None):\n",
    "        self.val = val\n",
    "        self.left = left\n",
    "        self.right = right\n",
    "        \n",
    "    def __str__(self):\n",
    "        '''\n",
    "        Prints all values under a given node. Goes depth first, left to right\n",
    "        '''\n",
    "        s = str(self.val)\n",
    "        s += ' -- ' + self.left.__str__()\n",
    "        s += ' -- ' + self.right.__str__()\n",
    "        return(s)\n",
    "    \n",
    "def make_bst(bst_list):\n",
    "    '''\n",
    "    Returns the root node of a balanced BST created from bst_list\n",
    "    '''\n",
    "    \n",
    "    if not bst_list:\n",
    "        return(None)\n",
    "    \n",
    "    root = TreeNode(val = bst_list[0])\n",
    "    del bst_list[0]\n",
    "    next_nodes = [root]\n",
    "    \n",
    "    while bst_list:\n",
    "        cur_nodes = next_nodes[:]\n",
    "        next_nodes = []\n",
    "        for n in cur_nodes:\n",
    "            if bst_list: \n",
    "                n.left = TreeNode(val = bst_list[0])\n",
    "                next_nodes.append(n.left)\n",
    "                del bst_list[0]\n",
    "            else:\n",
    "                n.left = None\n",
    "            if bst_list:\n",
    "                n.right = TreeNode(val = bst_list[0])\n",
    "                next_nodes.append(n.right)\n",
    "                del bst_list[0]\n",
    "                \n",
    "    return(root)\n",
    "        "
   ]
  },
  {
   "cell_type": "code",
   "execution_count": 76,
   "metadata": {},
   "outputs": [
    {
     "name": "stdout",
     "output_type": "stream",
     "text": [
      "1 -- 2 -- 4 -- None -- None -- 5 -- None -- None -- 3 -- 6 -- None -- None -- None\n"
     ]
    }
   ],
   "source": [
    "'''\n",
    "    1\n",
    "  2   3\n",
    " 4 5 6 None\n",
    "'''\n",
    "bst_list = [1,2,3,4,5,6]\n",
    "\n",
    "r = make_bst(bst_list)\n",
    "\n",
    "# Prints depth first (left to right)\n",
    "print(r)\n"
   ]
  }
 ],
 "metadata": {
  "kernelspec": {
   "display_name": "Python 3",
   "language": "python",
   "name": "python3"
  },
  "language_info": {
   "codemirror_mode": {
    "name": "ipython",
    "version": 3
   },
   "file_extension": ".py",
   "mimetype": "text/x-python",
   "name": "python",
   "nbconvert_exporter": "python",
   "pygments_lexer": "ipython3",
   "version": "3.6.4"
  }
 },
 "nbformat": 4,
 "nbformat_minor": 4
}

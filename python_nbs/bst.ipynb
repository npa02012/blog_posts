{
 "cells": [
  {
   "cell_type": "markdown",
   "metadata": {},
   "source": [
    "# Implementation\n",
    "\n",
    "In the block below, we define a **TreeNode** and create **make_bst()** which, given a list, returns the root node of a Balanced Binary Search Tree.\n",
    "  \n",
    "We then create and print a BST out of the list: [1,2,3,4,5,6]."
   ]
  },
  {
   "cell_type": "code",
   "execution_count": 3,
   "metadata": {},
   "outputs": [
    {
     "name": "stdout",
     "output_type": "stream",
     "text": [
      "1 -- 2 -- 4 -- None -- None -- 5 -- None -- None -- 3 -- 6 -- None -- None -- None\n"
     ]
    }
   ],
   "source": [
    "class TreeNode():\n",
    "    def __init__(self, val=-1, left=None, right=None):\n",
    "        self.val = val\n",
    "        self.left = left\n",
    "        self.right = right\n",
    "        \n",
    "    def __str__(self):\n",
    "        '''\n",
    "        Prints all values under a given node. Goes depth first, left to right\n",
    "        '''\n",
    "        s = str(self.val)\n",
    "        s += ' -- ' + self.left.__str__()\n",
    "        s += ' -- ' + self.right.__str__()\n",
    "        return(s)\n",
    "    \n",
    "def make_bst(bst_list):\n",
    "    '''\n",
    "    Returns the root node of a balanced BST created from bst_list\n",
    "    '''\n",
    "    \n",
    "    if not bst_list:\n",
    "        return(None)\n",
    "    \n",
    "    root = TreeNode(val = bst_list[0])\n",
    "    del bst_list[0]\n",
    "    next_nodes = [root]\n",
    "    \n",
    "    while bst_list:\n",
    "        cur_nodes = next_nodes[:]\n",
    "        next_nodes = []\n",
    "        for n in cur_nodes:\n",
    "            if bst_list:\n",
    "                if bst_list[0]:\n",
    "                    n.left = TreeNode(val = bst_list[0])\n",
    "                    next_nodes.append(n.left)\n",
    "                del bst_list[0]\n",
    "            else:\n",
    "                n.left = None\n",
    "            if bst_list:\n",
    "                if bst_list[0]:\n",
    "                    n.right = TreeNode(val = bst_list[0])\n",
    "                    next_nodes.append(n.right)\n",
    "                del bst_list[0]\n",
    "                \n",
    "    return(root)\n",
    "\n",
    "'''\n",
    "    1\n",
    "  2   3\n",
    " 4 5 6 None\n",
    "'''\n",
    "bst_list = [1,2,3,4,5,6]\n",
    "r = make_bst(bst_list)\n",
    "print(r)\n",
    "        "
   ]
  },
  {
   "cell_type": "markdown",
   "metadata": {},
   "source": [
    "#  BST Problems\n",
    "\n",
    "### Largest Value in Each Tree Row\n",
    "\n",
    "https://leetcode.com/problems/find-largest-value-in-each-tree-row/ \n",
    "  \n",
    "Given the root of a binary tree, return an array of the largest value in each row of the tree (0-indexed)."
   ]
  },
  {
   "cell_type": "code",
   "execution_count": 8,
   "metadata": {},
   "outputs": [
    {
     "name": "stdout",
     "output_type": "stream",
     "text": [
      "All tests passed\n"
     ]
    }
   ],
   "source": [
    "class solution:\n",
    "    def largest_values(self, root):    \n",
    "        # If root is None, return empty list\n",
    "        if not root: return([])\n",
    "        \n",
    "        def rec_resource(node, depth):\n",
    "            # If node is None, at end of BST\n",
    "            if not node: return\n",
    "            # Decide if current node is largest at the depth\n",
    "            if len(self.max_values) <= depth:\n",
    "                self.max_values.append(node.val)\n",
    "            elif node.val > self.max_values[depth]:\n",
    "                self.max_values[depth] = node.val   \n",
    "            # Call on children\n",
    "            rec_resource(node.left, depth + 1)\n",
    "            rec_resource(node.right, depth + 1)\n",
    "                \n",
    "        # Initialize, recursion, return\n",
    "        self.max_values = []\n",
    "        rec_resource(root, 0)\n",
    "        return(self.max_values)\n",
    "    \n",
    "# Tests\n",
    "bst = make_bst([])\n",
    "assert(solution().largest_values(bst) == [])\n",
    "\n",
    "bst = make_bst([1,2,3])\n",
    "assert(solution().largest_values(bst) == [1, 3])\n",
    "\n",
    "bst = make_bst([6, 1, 4, 1, 2, 9, 8])\n",
    "assert(solution().largest_values(bst) == [6, 4, 9])\n",
    "\n",
    "bst = make_bst([6, 1, 4, 1, 2, 9, 8, 1])\n",
    "assert(solution().largest_values(bst) == [6, 4, 9, 1])\n",
    "\n",
    "print('All tests passed')"
   ]
  },
  {
   "cell_type": "markdown",
   "metadata": {},
   "source": [
    "### Count of Good Nodes in a Tree\n",
    "\n",
    "https://leetcode.com/problems/count-good-nodes-in-binary-tree/\n",
    "\n",
    "Given a binary tree root, a node X in the tree is named good if in the path from root to X there are no nodes with a value greater than X. Return the number of good nodes in the binary tree."
   ]
  },
  {
   "cell_type": "code",
   "execution_count": 9,
   "metadata": {},
   "outputs": [
    {
     "name": "stdout",
     "output_type": "stream",
     "text": [
      "All tests passed\n"
     ]
    }
   ],
   "source": [
    "class solution:\n",
    "    def good_nodes(self, root):\n",
    "        def rec_resource(node, max_path_val):\n",
    "            # If node is None, at end of BST\n",
    "            if not node: return\n",
    "            # Update if a good node\n",
    "            if node.val >= max_path_val: \n",
    "                self.good_count += 1\n",
    "                max_path_val = node.val\n",
    "            # Call on children\n",
    "            rec_resource(node.left, max_path_val)\n",
    "            rec_resource(node.right, max_path_val)\n",
    "            \n",
    "        # Initialize, recursion, return \n",
    "        self.good_count = 0\n",
    "        rec_resource(root, float('-inf'))\n",
    "        return(self.good_count)\n",
    "    \n",
    "# Tests\n",
    "bst = make_bst([])\n",
    "assert(solution().good_nodes(bst) == 0)\n",
    "\n",
    "bst = make_bst([1,2,3])\n",
    "assert(solution().good_nodes(bst) == 3)\n",
    "\n",
    "bst = make_bst([3,1,2])\n",
    "assert(solution().good_nodes(bst) == 1)\n",
    "\n",
    "bst = make_bst([3,1,1,4,4,4])\n",
    "assert(solution().good_nodes(bst) == 4)\n",
    "\n",
    "print('All tests passed')"
   ]
  },
  {
   "cell_type": "markdown",
   "metadata": {},
   "source": [
    "### Sum of Nodes with Even Value Grandparents\n",
    "\n",
    "https://leetcode.com/problems/sum-of-nodes-with-even-valued-grandparent/submissions/\n",
    "\n",
    "Given a binary tree, return the sum of values of nodes with even-valued grandparent. (A grandparent of a node is the parent of its parent, if it exists.)"
   ]
  },
  {
   "cell_type": "code",
   "execution_count": 15,
   "metadata": {},
   "outputs": [
    {
     "name": "stdout",
     "output_type": "stream",
     "text": [
      "All tests passed\n"
     ]
    }
   ],
   "source": [
    "class Solution:\n",
    "    def sumEvenGrandparent(self, root):\n",
    "        \"\"\"\n",
    "        :type root: TreeNode\n",
    "        :rtype: int\n",
    "        \"\"\"\n",
    "        def recHelper(node):\n",
    "            if not node: return\n",
    "            if node.val % 2 == 0:\n",
    "                if node.left and node.left.left:\n",
    "                    self.sumGrandChilds += node.left.left.val\n",
    "                if node.left and node.left.right:\n",
    "                    self.sumGrandChilds += node.left.right.val\n",
    "                if node.right and node.right.right:\n",
    "                    self.sumGrandChilds += node.right.right.val\n",
    "                if node.right and node.right.left:\n",
    "                    self.sumGrandChilds += node.right.left.val\n",
    "            recHelper(node.left)\n",
    "            recHelper(node.right)\n",
    "        \n",
    "        self.sumGrandChilds = 0\n",
    "        recHelper(root)\n",
    "        return(self.sumGrandChilds)\n",
    "    \n",
    "# Tests\n",
    "bst = make_bst([])\n",
    "assert(Solution().sumEvenGrandparent(bst) == 0)\n",
    "\n",
    "bst = make_bst([6,7,8,2,7,1,3,9,None,1,4,None,None,None,5])\n",
    "assert(Solution().sumEvenGrandparent(bst) == 18)\n",
    "\n",
    "bst = make_bst([1,2,3])\n",
    "assert(Solution().sumEvenGrandparent(bst) == 0)\n",
    "\n",
    "\n",
    "print('All tests passed')"
   ]
  },
  {
   "cell_type": "code",
   "execution_count": 10,
   "metadata": {},
   "outputs": [],
   "source": [
    "comb = '0'*10"
   ]
  },
  {
   "cell_type": "code",
   "execution_count": 13,
   "metadata": {},
   "outputs": [
    {
     "data": {
      "text/plain": [
       "0"
      ]
     },
     "execution_count": 13,
     "metadata": {},
     "output_type": "execute_result"
    }
   ],
   "source": [
    "int(comb[0:4], 2)"
   ]
  },
  {
   "cell_type": "code",
   "execution_count": 28,
   "metadata": {},
   "outputs": [
    {
     "data": {
      "text/plain": [
       "7"
      ]
     },
     "execution_count": 28,
     "metadata": {},
     "output_type": "execute_result"
    }
   ],
   "source": [
    "int('111', 2)"
   ]
  },
  {
   "cell_type": "markdown",
   "metadata": {},
   "source": [
    "### Inorder Traversal\n",
    "\n",
    "https://leetcode.com/problems/binary-tree-inorder-traversal/\n",
    "\n",
    "Given the root of a binary tree, return the inorder traversal of its nodes' values."
   ]
  },
  {
   "cell_type": "code",
   "execution_count": 6,
   "metadata": {},
   "outputs": [
    {
     "name": "stdout",
     "output_type": "stream",
     "text": [
      "All tests passed\n"
     ]
    }
   ],
   "source": [
    "class Solution(object):\n",
    "    def inorderTraversal(self, root):\n",
    "        \"\"\"\n",
    "        :type root: TreeNode\n",
    "        :rtype: List[int]\n",
    "        \"\"\"\n",
    "        if not root: return([])\n",
    "        def recHelper(node):\n",
    "            if node.left:\n",
    "                recHelper(node.left)\n",
    "            self.path.append(node.val)\n",
    "            if node.right:\n",
    "                recHelper(node.right)\n",
    "                \n",
    "        self.path = []\n",
    "        recHelper(root)\n",
    "        return(self.path)\n",
    "    \n",
    "# Tests\n",
    "bst = make_bst([])\n",
    "assert(Solution().inorderTraversal(bst) == [])\n",
    "\n",
    "bst = make_bst([1,2,3,4,5,6,7,8])\n",
    "assert(Solution().inorderTraversal(bst) == [8,4,2,5,1,6,3,7])\n",
    "\n",
    "bst = make_bst([1,2,3,4,None,None,5,6,7,8])\n",
    "assert(Solution().inorderTraversal(bst) == [6,4,7,2,1,3,8,5])\n",
    "\n",
    "print('All tests passed')"
   ]
  }
 ],
 "metadata": {
  "kernelspec": {
   "display_name": "Python 3",
   "language": "python",
   "name": "python3"
  },
  "language_info": {
   "codemirror_mode": {
    "name": "ipython",
    "version": 3
   },
   "file_extension": ".py",
   "mimetype": "text/x-python",
   "name": "python",
   "nbconvert_exporter": "python",
   "pygments_lexer": "ipython3",
   "version": "3.6.4"
  }
 },
 "nbformat": 4,
 "nbformat_minor": 4
}

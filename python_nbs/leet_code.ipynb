{
 "cells": [
  {
   "cell_type": "markdown",
   "metadata": {},
   "source": [
    "# LeetCode Problem Solutions\n",
    "See [https://leetcode.com/problems/](https://leetcode.com/problems/) for more information. My goal here is to solve the problems efficiently, memory and computation wise. Here are some ideas to achieve efficiency:\n",
    "* Tuples are immutable and likewise, are more memory efficient than lists.\n",
    "* Sets are based on a hash table and likewise much faster than lists when searching.\n",
    "\n",
    "# Brain Teaser Problems\n",
    "\n",
    "## Car-Pooling\n",
    "  \n",
    "https://leetcode.com/problems/car-pooling/  \n",
    "\n",
    "You are driving a vehicle that has capacity empty seats initially available for passengers.  The vehicle only drives east (ie. it cannot turn around and drive west.)\n",
    "\n",
    "Given a list of trips, trip[i] = [num_passengers, start_location, end_location] contains information about the i-th trip: the number of passengers that must be picked up, and the locations to pick them up and drop them off.  The locations are given as the number of kilometers due east from your vehicle's initial location.\n",
    "\n",
    "Return true if and only if it is possible to pick up and drop off all passengers for all the given trips.\n",
    "\n",
    "Problem breakdown:  \n",
    "* Order trips by stops, i.e., when the next stop will be.\n",
    "    * Consider dropoffs to be before pickups with the same timestamp.\n",
    "* Go through the stops and check if capacity has been reached on each steps."
   ]
  },
  {
   "cell_type": "code",
   "execution_count": 74,
   "metadata": {},
   "outputs": [],
   "source": [
    "class Solution(object):\n",
    "    def carPooling(self, trips, capacity):\n",
    "        \"\"\"\n",
    "        :type trips: List[List[int]]\n",
    "        :type capacity: int\n",
    "        :rtype: bool\n",
    "        \"\"\"\n",
    "        actions = [] # [step, n]\n",
    "        for n, s, e in trips:\n",
    "            actions.append((s, n))\n",
    "            actions.append((e, -n))\n",
    "        actions.sort() # key=lambda x: (x[0], x[1]) is implied\n",
    "        n = 0\n",
    "        while actions:\n",
    "            n += actions.pop(0)[1]\n",
    "            if n > capacity: return False\n",
    "        return True\n",
    "\n",
    "assert(Solution().carPooling([], 0))\n",
    "assert(Solution().carPooling([[2,1,5],[3,3,7]], 5))\n",
    "assert(not Solution().carPooling([[2,1,5],[3,3,7]], 4))\n",
    "assert(Solution().carPooling([[2,1,5],[3,5,7]], 3))"
   ]
  },
  {
   "cell_type": "markdown",
   "metadata": {},
   "source": [
    "# Singly-Linked List Problems\n",
    "\n",
    "## Linked List Cycle\n",
    "\n",
    "https://leetcode.com/problems/linked-list-cycle/  \n",
    "\n",
    "Given head, the head of a linked list, determine if the linked list has a cycle in it.\n",
    "\n",
    "There is a cycle in a linked list if there is some node in the list that can be reached again by continuously following the next pointer. Internally, pos is used to denote the index of the node that tail's next pointer is connected to. Note that pos is not passed as a parameter.\n",
    "\n",
    "Return true if there is a cycle in the linked list. Otherwise, return false.\n",
    "\n",
    "Problem Breakdown:\n",
    "* Fast moves 2 positions every step, while slow moves 1. One of two things will happen:\n",
    "    * Fast will reach the end of the list.\n",
    "    * Fast will 'catch' up to slow and prove there is a cycle\n",
    "* O(n) time complextiy."
   ]
  },
  {
   "cell_type": "code",
   "execution_count": 85,
   "metadata": {},
   "outputs": [],
   "source": [
    "#\n",
    "# TODO: Implement singly-linked-list for tests\n",
    "#\n",
    "class Solution(object):\n",
    "    def hasCycle(self, head):\n",
    "        \"\"\"\n",
    "        :type head: ListNode\n",
    "        :rtype: bool\n",
    "        \"\"\"\n",
    "        slow = head\n",
    "        fast = head\n",
    "        while fast and fast.next:\n",
    "            slow = slow.next\n",
    "            fast = fast.next.next\n",
    "            if slow == fast: return True\n",
    "        return False\n",
    "        "
   ]
  },
  {
   "cell_type": "code",
   "execution_count": null,
   "metadata": {},
   "outputs": [],
   "source": []
  }
 ],
 "metadata": {
  "kernelspec": {
   "display_name": "Python 3",
   "language": "python",
   "name": "python3"
  },
  "language_info": {
   "codemirror_mode": {
    "name": "ipython",
    "version": 3
   },
   "file_extension": ".py",
   "mimetype": "text/x-python",
   "name": "python",
   "nbconvert_exporter": "python",
   "pygments_lexer": "ipython3",
   "version": "3.6.4"
  }
 },
 "nbformat": 4,
 "nbformat_minor": 4
}

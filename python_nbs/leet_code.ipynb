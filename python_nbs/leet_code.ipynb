{
 "cells": [
  {
   "cell_type": "markdown",
   "metadata": {},
   "source": [
    "# LeetCode Problem Solutions\n",
    "See [https://leetcode.com/problems/](https://leetcode.com/problems/) for more information. My goal here is to solve the problems efficiently, memory and computation wise. Here are some ideas to achieve efficiency:\n",
    "* Tuples are immutable and likewise, are more memory efficient than lists.\n",
    "* Sets are based on a hash table and likewise much faster than lists when searching.\n",
    "\n",
    "# Brain Teaser Problems\n",
    "\n",
    "## Car-Pooling\n",
    "  \n",
    "https://leetcode.com/problems/car-pooling/  \n",
    "\n",
    "You are driving a vehicle that has capacity empty seats initially available for passengers.  The vehicle only drives east (ie. it cannot turn around and drive west.)\n",
    "\n",
    "Given a list of trips, trip[i] = [num_passengers, start_location, end_location] contains information about the i-th trip: the number of passengers that must be picked up, and the locations to pick them up and drop them off.  The locations are given as the number of kilometers due east from your vehicle's initial location.\n",
    "\n",
    "Return true if and only if it is possible to pick up and drop off all passengers for all the given trips.\n",
    "\n",
    "Problem breakdown:  \n",
    "* Order trips by stops, i.e., when the next stop will be.\n",
    "    * Consider dropoffs to be before pickups with the same timestamp.\n",
    "* Go through the stops and check if capacity has been reached on each steps."
   ]
  },
  {
   "cell_type": "code",
   "execution_count": 74,
   "metadata": {},
   "outputs": [],
   "source": [
    "class Solution(object):\n",
    "    def carPooling(self, trips, capacity):\n",
    "        \"\"\"\n",
    "        :type trips: List[List[int]]\n",
    "        :type capacity: int\n",
    "        :rtype: bool\n",
    "        \"\"\"\n",
    "        actions = [] # [step, n]\n",
    "        for n, s, e in trips:\n",
    "            actions.append((s, n))\n",
    "            actions.append((e, -n))\n",
    "        actions.sort() # key=lambda x: (x[0], x[1]) is implied\n",
    "        n = 0\n",
    "        while actions:\n",
    "            n += actions.pop(0)[1]\n",
    "            if n > capacity: return False\n",
    "        return True\n",
    "\n",
    "assert(Solution().carPooling([], 0))\n",
    "assert(Solution().carPooling([[2,1,5],[3,3,7]], 5))\n",
    "assert(not Solution().carPooling([[2,1,5],[3,3,7]], 4))\n",
    "assert(Solution().carPooling([[2,1,5],[3,5,7]], 3))"
   ]
  },
  {
   "cell_type": "markdown",
   "metadata": {},
   "source": [
    "# Singly-Linked List Problems\n",
    "\n",
    "\n",
    "## Linked List Cycle\n",
    "\n",
    "https://leetcode.com/problems/linked-list-cycle-ii/\n",
    "\n",
    "Given a linked list, return the node where the cycle begins. If there is no cycle, return null.\n",
    "\n",
    "Problem Breakdown:\n",
    "* Rabbit moves 2 positions every step, while turtle moves 1. One of two things will happen:\n",
    "    * Rabbit will reach the end of the list.\n",
    "    * Rabbit and turtle will meet somewhere in the cycle.\n",
    "    * https://math.stackexchange.com/questions/913499/proof-of-floyd-cycle-chasing-tortoise-and-hare\n",
    "* When the rabbit and turtle meet, they are necessarily *r* steps aways from the start of the cycle.\n",
    "    * At this point, ignore the rabbit and put another turtle at the head.\n",
    "    * Since *T = kC + r*, then the two turtles will meet at the start of the cycle."
   ]
  },
  {
   "cell_type": "code",
   "execution_count": 90,
   "metadata": {},
   "outputs": [],
   "source": [
    "class Solution(object):\n",
    "    def detectCycle(self, head):\n",
    "        \"\"\"\n",
    "        :type head: ListNode\n",
    "        :rtype: ListNode\n",
    "        \"\"\"\n",
    "        t = r = head\n",
    "        while r and r.next:\n",
    "            r = r.next.next\n",
    "            t = t.next \n",
    "            if r == t:\n",
    "                t2 = head\n",
    "                while True:\n",
    "                    if t == t2: return t\n",
    "                    t = t.next\n",
    "                    t2 = t2.next      \n",
    "        return None"
   ]
  }
 ],
 "metadata": {
  "kernelspec": {
   "display_name": "Python 3",
   "language": "python",
   "name": "python3"
  },
  "language_info": {
   "codemirror_mode": {
    "name": "ipython",
    "version": 3
   },
   "file_extension": ".py",
   "mimetype": "text/x-python",
   "name": "python",
   "nbconvert_exporter": "python",
   "pygments_lexer": "ipython3",
   "version": "3.6.4"
  }
 },
 "nbformat": 4,
 "nbformat_minor": 4
}

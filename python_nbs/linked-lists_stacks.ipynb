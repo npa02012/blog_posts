{
 "cells": [
  {
   "cell_type": "markdown",
   "metadata": {},
   "source": [
    "## Singly-Linked List\n",
    "\n",
    "#### Implementation:"
   ]
  },
  {
   "cell_type": "code",
   "execution_count": 1,
   "metadata": {},
   "outputs": [
    {
     "name": "stdout",
     "output_type": "stream",
     "text": [
      "10-->13-->15-->20-->25-->None\n",
      "13-->15-->20-->25-->None\n",
      "13-->15-->25-->None\n"
     ]
    }
   ],
   "source": [
    "class Node():\n",
    "    def __init__(self, val):\n",
    "        self.val = val\n",
    "        self.next = None\n",
    "    \n",
    "    def appendToTail(self, val):\n",
    "        end = Node(val)\n",
    "        n = self\n",
    "        while n.next:\n",
    "            n = n.next\n",
    "        n.next = end\n",
    "        \n",
    "    def deleteNode(self, val):\n",
    "        n = self\n",
    "        if n.val == val:\n",
    "            if self.next:\n",
    "                self.val = self.next.val\n",
    "                self.next = self.next.next\n",
    "            else:\n",
    "                # Probably not the best implementation\n",
    "                self.val = None\n",
    "                self.next = None\n",
    "            return\n",
    "        while n.next:\n",
    "            if n.next.val == val:\n",
    "                n.next = n.next.next\n",
    "                break\n",
    "            n = n.next\n",
    "    def printNodes(self):\n",
    "        n = self\n",
    "        toPrint = str()\n",
    "        while n:\n",
    "            toPrint += str(n.val) + '-->'\n",
    "            n = n.next\n",
    "        toPrint += 'None'\n",
    "        print(toPrint)\n",
    "\n",
    "#\n",
    "# Test creating a node, appending to tail, and deleting\n",
    "#\n",
    "head = Node(10)\n",
    "head.appendToTail(13)\n",
    "head.appendToTail(15)\n",
    "head.appendToTail(20)\n",
    "head.appendToTail(25)\n",
    "head.printNodes()\n",
    "head.deleteNode(10)\n",
    "head.printNodes()\n",
    "head.deleteNode(20)\n",
    "head.printNodes()"
   ]
  },
  {
   "cell_type": "markdown",
   "metadata": {},
   "source": [
    "#### Problems:"
   ]
  },
  {
   "cell_type": "code",
   "execution_count": 63,
   "metadata": {},
   "outputs": [
    {
     "name": "stdout",
     "output_type": "stream",
     "text": [
      "10-->13-->15-->20-->25-->None\n",
      "15\n"
     ]
    }
   ],
   "source": [
    "def getKthNode(head, k):\n",
    "    '''\n",
    "    Return the Kth to last node.\n",
    "    K = 1 should return the last node\n",
    "    '''\n",
    "    #\n",
    "    # Algorithm run-time is O(N) and\n",
    "    #  space-complexity is O(1)\n",
    "    #\n",
    "    fast = head\n",
    "    slow = head\n",
    "    for _ in range(k-1): fast = fast.next\n",
    "    while(fast.next):\n",
    "        fast = fast.next\n",
    "        slow = slow.next\n",
    "    return(slow)\n",
    "    \n",
    "    #\n",
    "    # Algorithm below runs in O(N), but makes\n",
    "    #  2 pass throughs \"O(2N)\"\n",
    "    #\n",
    "    length = 0\n",
    "    n = head\n",
    "    while n:\n",
    "        length += 1\n",
    "        n = n.next\n",
    "    n = head\n",
    "    for _ in range(length - k):\n",
    "        n = n.next\n",
    "    return(n)\n",
    "    \n",
    "    \n",
    "head = Node(10)\n",
    "head.appendToTail(13)\n",
    "head.appendToTail(15)\n",
    "head.appendToTail(20)\n",
    "head.appendToTail(25)\n",
    "head.printNodes()\n",
    "print(getKthNode(head, 3).val)"
   ]
  },
  {
   "cell_type": "code",
   "execution_count": 67,
   "metadata": {},
   "outputs": [
    {
     "name": "stdout",
     "output_type": "stream",
     "text": [
      "1-->3-->5-->7-->9-->2-->4-->8-->None\n",
      "1-->3-->2-->4-->5-->7-->9-->8-->None\n"
     ]
    }
   ],
   "source": [
    "def partitionList(head, p):\n",
    "    '''\n",
    "    Partition a linked list around a value, p, such that all nodes\n",
    "      less than p combe before all nodes greater than or equal to p.\n",
    "    '''\n",
    "    smallHead = smallTail = bigHead = bigTail = None\n",
    "    curNode = head\n",
    "    while curNode:\n",
    "        if curNode.val < p:\n",
    "            if not smallHead:\n",
    "                smallHead = curNode\n",
    "                smallTail = curNode\n",
    "            else:\n",
    "                smallTail.next = curNode\n",
    "                smallTail = curNode\n",
    "        else:\n",
    "            if not bigHead:\n",
    "                bigHead = curNode\n",
    "                bigTail = curNode\n",
    "            else:\n",
    "                bigTail.next = curNode\n",
    "                bigTail = curNode\n",
    "        curNode = curNode.next\n",
    "    smallTail.next = bigHead\n",
    "    return smallHead\n",
    "\n",
    "    '''\n",
    "    Another solution could grow a new list by replacing the head when\n",
    "      curNode < p and replacing the tail when curNode > p\n",
    "    '''\n",
    "\n",
    "head = Node(1)\n",
    "head.appendToTail(3)\n",
    "head.appendToTail(5)\n",
    "head.appendToTail(7)\n",
    "head.appendToTail(9)\n",
    "head.appendToTail(2)\n",
    "head.appendToTail(4)\n",
    "head.appendToTail(8)\n",
    "head.printNodes()\n",
    "newHead = partitionList(head, 5)\n",
    "newHead.printNodes()"
   ]
  },
  {
   "cell_type": "markdown",
   "metadata": {},
   "source": [
    "## Stack (Impemented Using Nodes)\n",
    "\n",
    "#### Implementation:"
   ]
  },
  {
   "cell_type": "code",
   "execution_count": 21,
   "metadata": {},
   "outputs": [
    {
     "name": "stdout",
     "output_type": "stream",
     "text": [
      "3\n",
      "3\n",
      "3\n",
      "----\n",
      "4\n",
      "2\n",
      "1\n"
     ]
    }
   ],
   "source": [
    "class Node():\n",
    "    def __init__(self, val):\n",
    "        self.val = val\n",
    "        self.next = None\n",
    "        \n",
    "class Stack():\n",
    "    def __init__(self):\n",
    "        self.top = None\n",
    "    \n",
    "    def isEmpty(self):\n",
    "        return self.top is None\n",
    "    \n",
    "    def push(self, val):\n",
    "        nodeVal = Node(val)\n",
    "        nodeVal.next = self.top\n",
    "        self.top = nodeVal\n",
    "        \n",
    "    def pop(self):\n",
    "        if not self.top: raise Exception('Stack exhausted')\n",
    "        nodeVal = self.top\n",
    "        self.top = self.top.next\n",
    "        return nodeVal\n",
    "    \n",
    "    def peek(self):\n",
    "        if not self.top: raise Exception('Stack exhausted')\n",
    "        return self.top\n",
    "    \n",
    "        \n",
    "s = Stack()\n",
    "s.push(1)\n",
    "s.push(2)\n",
    "s.push(3)\n",
    "print(s.peek().val)\n",
    "print(s.peek().val)\n",
    "print(s.pop().val)\n",
    "s.push(4)\n",
    "print('----')\n",
    "while not s.isEmpty():\n",
    "    print(s.pop().val)"
   ]
  },
  {
   "cell_type": "markdown",
   "metadata": {},
   "source": [
    "#### Problems:"
   ]
  },
  {
   "cell_type": "code",
   "execution_count": 32,
   "metadata": {},
   "outputs": [
    {
     "name": "stdout",
     "output_type": "stream",
     "text": [
      "10\n",
      "0\n",
      "3\n",
      "2\n",
      "1\n",
      "-1\n",
      "200\n",
      "----\n",
      "-1\n",
      "0\n",
      "1\n",
      "2\n",
      "3\n",
      "10\n",
      "200\n"
     ]
    }
   ],
   "source": [
    "def sortStack(stack):\n",
    "    '''\n",
    "    Sorts a stack (with the smallest integers on the top) while\n",
    "    using only one other stack as a temporary buffer.\n",
    "    '''\n",
    "    tmpStack = Stack()\n",
    "    while not stack.isEmpty():\n",
    "        tmpNode = stack.pop()\n",
    "        while (not tmpStack.isEmpty()) and \\\n",
    "                (tmpNode.val < tmpStack.peek().val):\n",
    "            stack.push(tmpStack.pop().val)\n",
    "        tmpStack.push(tmpNode.val)\n",
    "    while not tmpStack.isEmpty():\n",
    "        stack.push(tmpStack.pop().val)\n",
    "\n",
    "        \n",
    "def makeStack():\n",
    "    s = Stack()\n",
    "    s.push(200)\n",
    "    s.push(-1)\n",
    "    s.push(1)\n",
    "    s.push(2)\n",
    "    s.push(3)\n",
    "    s.push(0)\n",
    "    s.push(10)\n",
    "    return(s)\n",
    "\n",
    "s = makeStack()\n",
    "while not s.isEmpty():\n",
    "    print(s.pop().val)\n",
    "print('----')\n",
    "s = makeStack()\n",
    "sortStack(s)\n",
    "while not s.isEmpty():\n",
    "    print(s.pop().val)"
   ]
  }
 ],
 "metadata": {
  "kernelspec": {
   "display_name": "Python 3",
   "language": "python",
   "name": "python3"
  },
  "language_info": {
   "codemirror_mode": {
    "name": "ipython",
    "version": 3
   },
   "file_extension": ".py",
   "mimetype": "text/x-python",
   "name": "python",
   "nbconvert_exporter": "python",
   "pygments_lexer": "ipython3",
   "version": "3.6.4"
  }
 },
 "nbformat": 4,
 "nbformat_minor": 4
}

{
 "cells": [
  {
   "cell_type": "code",
   "execution_count": 1,
   "metadata": {},
   "outputs": [],
   "source": [
    "import numpy as np"
   ]
  },
  {
   "cell_type": "code",
   "execution_count": 21,
   "metadata": {},
   "outputs": [
    {
     "name": "stdout",
     "output_type": "stream",
     "text": [
      "['t' 'e' 's' 't']\n"
     ]
    }
   ],
   "source": [
    "# String to array\n",
    "tmp = np.array(list('test'))\n",
    "print(tmp)"
   ]
  },
  {
   "cell_type": "code",
   "execution_count": 22,
   "metadata": {},
   "outputs": [
    {
     "data": {
      "text/plain": [
       "'test'"
      ]
     },
     "execution_count": 22,
     "metadata": {},
     "output_type": "execute_result"
    }
   ],
   "source": [
    "''.join(tmp)"
   ]
  },
  {
   "cell_type": "code",
   "execution_count": 13,
   "metadata": {},
   "outputs": [
    {
     "name": "stdout",
     "output_type": "stream",
     "text": [
      "0 -- t\n",
      "1 -- e\n",
      "2 -- s\n",
      "3 -- t\n"
     ]
    }
   ],
   "source": [
    "for i, c in enumerate(tmp):\n",
    "    print('{} -- {}'.format(i, c))"
   ]
  },
  {
   "cell_type": "code",
   "execution_count": 71,
   "metadata": {},
   "outputs": [
    {
     "data": {
      "text/plain": [
       "'Goal'"
      ]
     },
     "execution_count": 71,
     "metadata": {},
     "output_type": "execute_result"
    }
   ],
   "source": [
    "command = 'G()(al)'\n",
    "command = np.array(list(command)).astype('<U2')\n",
    "i = 0\n",
    "while True:\n",
    "    if command[i] == '(':\n",
    "        if command[i+1] == ')':\n",
    "            \n",
    "            command[i] = 'o'\n",
    "            command = np.delete(command, i+1)\n",
    "        else:\n",
    "            command[i] = 'al'\n",
    "            command = np.delete(command, [i+1, i+2, i+3])\n",
    "    i += 1\n",
    "    if i > command.shape[0] - 1:\n",
    "        break\n",
    "''.join(list(command))"
   ]
  },
  {
   "cell_type": "code",
   "execution_count": null,
   "metadata": {},
   "outputs": [],
   "source": []
  }
 ],
 "metadata": {
  "kernelspec": {
   "display_name": "Python 3",
   "language": "python",
   "name": "python3"
  },
  "language_info": {
   "codemirror_mode": {
    "name": "ipython",
    "version": 3
   },
   "file_extension": ".py",
   "mimetype": "text/x-python",
   "name": "python",
   "nbconvert_exporter": "python",
   "pygments_lexer": "ipython3",
   "version": "3.6.4"
  }
 },
 "nbformat": 4,
 "nbformat_minor": 4
}

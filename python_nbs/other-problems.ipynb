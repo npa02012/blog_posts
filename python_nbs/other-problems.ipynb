{
 "cells": [
  {
   "cell_type": "markdown",
   "metadata": {},
   "source": [
    "### Sorted Merge\n",
    "\n",
    "Given two sorted arrays, A and B, write a method to merge B into A in sorted order."
   ]
  },
  {
   "cell_type": "code",
   "execution_count": 16,
   "metadata": {},
   "outputs": [
    {
     "name": "stdout",
     "output_type": "stream",
     "text": [
      "[0, 1, 1, 2, 2, 3, 4, 4, 5, 6, 10, 20]\n",
      "[0, 1, 1, 2, 2, 3, 4, 4, 5, 6, 10, 20]\n",
      "[0, 1, 2, 4, 6, 10]\n",
      "[1, 2, 4, 6, 10, 20, 40, 60]\n"
     ]
    }
   ],
   "source": [
    "def sortedMerge(a, b):\n",
    "    l = list()\n",
    "    while a and b:\n",
    "        if b[0] < a[0]: l.append(b.pop(0))\n",
    "        else: l.append(a.pop(0))\n",
    "    if a: l.extend(a)\n",
    "    if b: l.extend(b)\n",
    "    return l\n",
    "\n",
    "a = [1,2,4,6,10]\n",
    "b = [0,1,2,3,4,5,20]\n",
    "print(sortedMerge(a, b))\n",
    "\n",
    "def sortedMerge2(a, b):\n",
    "    '''\n",
    "    This is an implementation which avoids appending and extending, which\n",
    "      can be considered costly operations.\n",
    "    '''\n",
    "    idxA = len(a) - 1\n",
    "    idxB = len(b) - 1\n",
    "    a.extend([None for _ in range(len(b))])\n",
    "    idxFinal = len(a) - 1\n",
    "    while idxB >= 0:\n",
    "        if (idxA >= 0) and (a[idxA] > b[idxB]):\n",
    "            a[idxFinal] = a[idxA]\n",
    "            idxA -= 1\n",
    "        else:\n",
    "            a[idxFinal] = b.pop(idxB)\n",
    "            idxB -= 1\n",
    "        idxFinal -= 1\n",
    "    return a\n",
    "\n",
    "a = [1,2,4,6,10]\n",
    "b = [0,1,2,3,4,5,20]\n",
    "print(sortedMerge(a, b))\n",
    "\n",
    "a = [1,2,4,6,10]\n",
    "b = [0]\n",
    "print(sortedMerge(a, b))\n",
    "\n",
    "a = [1,2,4,6,10]\n",
    "b = [20,40,60]\n",
    "print(sortedMerge(a, b))\n"
   ]
  }
 ],
 "metadata": {
  "kernelspec": {
   "display_name": "Python 3",
   "language": "python",
   "name": "python3"
  },
  "language_info": {
   "codemirror_mode": {
    "name": "ipython",
    "version": 3
   },
   "file_extension": ".py",
   "mimetype": "text/x-python",
   "name": "python",
   "nbconvert_exporter": "python",
   "pygments_lexer": "ipython3",
   "version": "3.6.4"
  }
 },
 "nbformat": 4,
 "nbformat_minor": 4
}

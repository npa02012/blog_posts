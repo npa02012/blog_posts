{
 "cells": [
  {
   "cell_type": "markdown",
   "metadata": {},
   "source": [
    "### Basic Functionality"
   ]
  },
  {
   "cell_type": "code",
   "execution_count": 1,
   "metadata": {},
   "outputs": [
    {
     "name": "stdout",
     "output_type": "stream",
     "text": [
      "256\n",
      "2\n",
      "7\n",
      "[1, 1, 1, 1, 1]\n",
      "3\n",
      "2\n",
      "1\n"
     ]
    }
   ],
   "source": [
    "print(2 ** 8) # Exponent\n",
    "print(27//10) # Division, discard remainder\n",
    "print(27 % 10) # Get remainder\n",
    "print([1] * 5) # Initialize a list of size 5\n",
    "for i in range(3, 0, -1): # Reverse order on a range\n",
    "    print(i)"
   ]
  },
  {
   "cell_type": "markdown",
   "metadata": {},
   "source": [
    "### Lists"
   ]
  },
  {
   "cell_type": "code",
   "execution_count": null,
   "metadata": {},
   "outputs": [],
   "source": [
    "print('Reverse part of a list:')\n",
    "tmp = [1,2,3,4,5]\n",
    "tmp[0:3] = tmp[0:3][::-1]\n",
    "print(tmp)\n",
    "\n",
    "print('\\nList boolean evaluation:')\n",
    "if not []: print('[] is False')\n",
    "if [0]: print('[0] is True')\n",
    "\n",
    "print('\\nSlicing creates a copy:')  \n",
    "tmp = [1,2,3]\n",
    "tmp2 = tmp[:]\n",
    "tmp2.append(4)\n",
    "print(tmp)\n",
    "print(tmp2)"
   ]
  },
  {
   "cell_type": "markdown",
   "metadata": {},
   "source": [
    "### Sets"
   ]
  },
  {
   "cell_type": "code",
   "execution_count": 3,
   "metadata": {},
   "outputs": [
    {
     "name": "stdout",
     "output_type": "stream",
     "text": [
      "Set intersection does not override a set:\n",
      "{3}\n",
      "{1, 2, 3}\n",
      "\n",
      "Set difference:\n",
      "{1, 2}\n",
      "\n",
      "Set supersets\n",
      "True\n"
     ]
    }
   ],
   "source": [
    "print('Set intersection does not override a set:')\n",
    "tmp = set([1,2,3])\n",
    "print(tmp.intersection(set([3,4,5])))\n",
    "print(tmp)\n",
    "\n",
    "print('\\nSet difference:')\n",
    "tmp = set([1,2,3])\n",
    "print(tmp.difference(set([3])))\n",
    "\n",
    "print('\\nSet supersets')\n",
    "print(set([1,2,3]).issuperset(set([1,2])))"
   ]
  },
  {
   "cell_type": "markdown",
   "metadata": {},
   "source": [
    "### Default dicts"
   ]
  },
  {
   "cell_type": "code",
   "execution_count": 20,
   "metadata": {},
   "outputs": [
    {
     "name": "stdout",
     "output_type": "stream",
     "text": [
      "Default integer dict:\n",
      "\n",
      "Keys are initally empty:\n",
      "dict_keys([])\n",
      "\n",
      "Can call a missing key, will return 0:\n",
      "0\n",
      "\n",
      "Key is then added to dictionary:\n",
      "dict_keys(['test_key'])\n"
     ]
    }
   ],
   "source": [
    "from collections import defaultdict\n",
    "\n",
    "print('Default integer dict:')\n",
    "d = defaultdict(int)\n",
    "\n",
    "print('\\nKeys are initally empty:')\n",
    "print(d.keys())\n",
    "\n",
    "print('\\nCan call a missing key, will return 0:')\n",
    "print(d['test_key'])\n",
    "\n",
    "print('\\nKey is then added to dictionary:')\n",
    "print(d.keys())"
   ]
  },
  {
   "cell_type": "code",
   "execution_count": 23,
   "metadata": {},
   "outputs": [
    {
     "name": "stdout",
     "output_type": "stream",
     "text": [
      "Dictionary with -1 as the default value:\n"
     ]
    },
    {
     "data": {
      "text/plain": [
       "-1"
      ]
     },
     "execution_count": 23,
     "metadata": {},
     "output_type": "execute_result"
    }
   ],
   "source": [
    "print('Dictionary with -1 as the default value:')\n",
    "d = defaultdict(lambda: -1)\n",
    "d['test_key']"
   ]
  }
 ],
 "metadata": {
  "kernelspec": {
   "display_name": "Python 3",
   "language": "python",
   "name": "python3"
  },
  "language_info": {
   "codemirror_mode": {
    "name": "ipython",
    "version": 3
   },
   "file_extension": ".py",
   "mimetype": "text/x-python",
   "name": "python",
   "nbconvert_exporter": "python",
   "pygments_lexer": "ipython3",
   "version": "3.6.4"
  }
 },
 "nbformat": 4,
 "nbformat_minor": 4
}

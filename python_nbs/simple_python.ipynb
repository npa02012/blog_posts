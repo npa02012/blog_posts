{
 "cells": [
  {
   "cell_type": "markdown",
   "metadata": {},
   "source": [
    "### Notes\n",
    "* Tuples are immutable - more memory efficient than lists.\n",
    "* Sets are based on a hash table - much faster than lists when searching."
   ]
  },
  {
   "cell_type": "markdown",
   "metadata": {},
   "source": [
    "### Basic Functionality"
   ]
  },
  {
   "cell_type": "code",
   "execution_count": 1,
   "metadata": {},
   "outputs": [
    {
     "name": "stdout",
     "output_type": "stream",
     "text": [
      "Exponents:\n",
      "256\n",
      "\n",
      "Division, discard remainder:\n",
      "2\n",
      "\n",
      "Get remainder:\n",
      "7\n",
      "\n",
      "Initialize a list of a certain size:\n",
      "[1, 1, 1, 1, 1]\n",
      "\n",
      "Reverse order on a range:\n",
      "3\n",
      "2\n",
      "1\n",
      "\n",
      "Loop through a string:\n",
      "t\n",
      "e\n",
      "s\n",
      "t\n",
      "\n",
      "Infinity float:\n",
      "inf\n",
      "-inf\n",
      "\n",
      "Convert to binary (string)\n",
      "0b101\n",
      "<class 'str'>\n"
     ]
    }
   ],
   "source": [
    "print('Exponents:')\n",
    "print(2 ** 8)\n",
    "\n",
    "print('\\nDivision, discard remainder:')\n",
    "print(27//10)\n",
    "\n",
    "print('\\nGet remainder:')\n",
    "print(27 % 10)\n",
    "\n",
    "print('\\nInitialize a list of a certain size:')\n",
    "print([1] * 5)\n",
    "\n",
    "print('\\nReverse order on a range:')\n",
    "for i in range(3, 0, -1):\n",
    "    print(i)\n",
    "\n",
    "print('\\nLoop through a string:')\n",
    "for c in 'test':\n",
    "    print(c)\n",
    "    \n",
    "print('\\nInfinity float:')\n",
    "print(float('inf'))\n",
    "print(float('-inf'))\n",
    "\n",
    "print('\\nConvert to binary (string)')\n",
    "tmp = bin(5)\n",
    "print(tmp)\n",
    "print(type(tmp))"
   ]
  },
  {
   "cell_type": "markdown",
   "metadata": {},
   "source": [
    "### Lists"
   ]
  },
  {
   "cell_type": "code",
   "execution_count": 5,
   "metadata": {},
   "outputs": [
    {
     "name": "stdout",
     "output_type": "stream",
     "text": [
      "Reverse an entire list:\n",
      "[5, 4, 3, 2, 1]\n",
      "\n",
      "Reverse part of a list:\n",
      "[3, 2, 1, 4, 5]\n",
      "\n",
      "List boolean evaluation:\n",
      "[] is False\n",
      "[0] is True\n",
      "\n",
      "Slicing creates a copy:\n",
      "[1, 2, 3]\n",
      "[1, 2, 3, 4]\n",
      "\n",
      "Prepend to a list:\n",
      "[1, 2, 3]\n",
      "[-1, 1, 2, 3]\n",
      "\n",
      "Index function for searching (returns first)\n",
      "2\n",
      "\n",
      "Exhausting a list:\n",
      "1\n",
      "2\n",
      "3\n",
      "4\n",
      "\n",
      "Sort a lists of lists by a specific index:\n",
      "[['a', 1, 'z'], ['a', 2, 'b'], ['b', 3, 'd']]\n",
      "\n",
      "Unpack list of lists:\n",
      "(1, 4)\n",
      "(2, 5)\n",
      "(3, 6)\n"
     ]
    }
   ],
   "source": [
    "print('Reverse an entire list:')\n",
    "tmp = [1,2,3,4,5]\n",
    "tmp.reverse()\n",
    "print(tmp)\n",
    "\n",
    "print('\\nReverse part of a list:')\n",
    "tmp = [1,2,3,4,5]\n",
    "tmp[0:3] = tmp[0:3][::-1]\n",
    "print(tmp)\n",
    "\n",
    "print('\\nList boolean evaluation:')\n",
    "if not []: print('[] is False')\n",
    "if [0]: print('[0] is True')\n",
    "\n",
    "print('\\nSlicing creates a copy:')  \n",
    "tmp = [1,2,3]\n",
    "tmp2 = tmp[:]\n",
    "tmp2.append(4)\n",
    "print(tmp)\n",
    "print(tmp2)\n",
    "\n",
    "print('\\nPrepend to a list:')\n",
    "tmp = [1,2,3]\n",
    "print(tmp)\n",
    "tmp.insert(0, -1)\n",
    "print(tmp)\n",
    "\n",
    "print('\\nIndex function for searching (returns first)')\n",
    "tmp = ['a', 'b', 'c', 'd', 'e', 'c']\n",
    "print(tmp.index('c'))\n",
    "\n",
    "print('\\nExhausting a list:')\n",
    "l = [1,2,3,4]\n",
    "while l:\n",
    "    print(l.pop(0))\n",
    "    \n",
    "print('\\nSort a lists of lists by a specific index:')\n",
    "l = [['a',2,'b'],['b',3,'d'],['a',1,'z']]\n",
    "print(sorted(l, key=lambda x: x[1]))\n",
    "\n",
    "print('\\nUnpack list of lists:')\n",
    "for v in zip(*[[1,2,3],[4,5,6]]):\n",
    "    print(v)"
   ]
  },
  {
   "cell_type": "markdown",
   "metadata": {},
   "source": [
    "### Sets"
   ]
  },
  {
   "cell_type": "code",
   "execution_count": 17,
   "metadata": {},
   "outputs": [],
   "source": [
    "tmp = set()"
   ]
  },
  {
   "cell_type": "code",
   "execution_count": 18,
   "metadata": {},
   "outputs": [],
   "source": [
    "tmp.update([1,2,3])"
   ]
  },
  {
   "cell_type": "code",
   "execution_count": 19,
   "metadata": {},
   "outputs": [
    {
     "data": {
      "text/plain": [
       "{1, 2, 3}"
      ]
     },
     "execution_count": 19,
     "metadata": {},
     "output_type": "execute_result"
    }
   ],
   "source": [
    "tmp"
   ]
  },
  {
   "cell_type": "code",
   "execution_count": 22,
   "metadata": {},
   "outputs": [
    {
     "name": "stdout",
     "output_type": "stream",
     "text": [
      "Add values to a set:\n",
      "{0, 1, 2, 3}\n",
      "\n",
      "Set intersection does not override a set:\n",
      "{3}\n",
      "{1, 2, 3}\n",
      "\n",
      "Set difference:\n",
      "{1, 2}\n",
      "\n",
      "Set supersets:\n",
      "True\n"
     ]
    }
   ],
   "source": [
    "print('Add values to a set:')\n",
    "tmp = set()\n",
    "tmp.add(0)\n",
    "tmp.update(range(4))\n",
    "print(tmp)\n",
    "\n",
    "print('\\nSet intersection does not override a set:')\n",
    "tmp = set([1,2,3])\n",
    "print(tmp.intersection(set([3,4,5])))\n",
    "print(tmp)\n",
    "\n",
    "print('\\nSet difference:')\n",
    "tmp = set([1,2,3])\n",
    "print(tmp.difference(set([3])))\n",
    "\n",
    "print('\\nSet supersets:')\n",
    "print(set([1,2,3]).issuperset(set([1,2])))"
   ]
  },
  {
   "cell_type": "markdown",
   "metadata": {},
   "source": [
    "### Python Methods"
   ]
  },
  {
   "cell_type": "code",
   "execution_count": 4,
   "metadata": {},
   "outputs": [
    {
     "name": "stdout",
     "output_type": "stream",
     "text": [
      "idx: 0  --  value: a\n",
      "idx: 1  --  value: b\n",
      "idx: 2  --  value: c\n"
     ]
    }
   ],
   "source": [
    "for idx, val in enumerate(['a', 'b', 'c']):\n",
    "    print('idx: {}  --  value: {}'.format(idx, val))"
   ]
  },
  {
   "cell_type": "code",
   "execution_count": 5,
   "metadata": {},
   "outputs": [
    {
     "name": "stdout",
     "output_type": "stream",
     "text": [
      "test break while\n",
      "test break for\n",
      "test continue\n"
     ]
    }
   ],
   "source": [
    "while True:\n",
    "    print('test break while')\n",
    "    break\n",
    "\n",
    "for _ in range(100):\n",
    "    print('test break for')\n",
    "    break\n",
    "    \n",
    "for i in range(100):\n",
    "    if i != 0:\n",
    "        continue\n",
    "    print('test continue')\n",
    "    "
   ]
  },
  {
   "cell_type": "code",
   "execution_count": 6,
   "metadata": {
    "scrolled": true
   },
   "outputs": [
    {
     "name": "stdout",
     "output_type": "stream",
     "text": [
      "a: 1  --  b: 4\n",
      "a: 2  --  b: 5\n",
      "a: 3  --  b: 6\n"
     ]
    }
   ],
   "source": [
    "a_list = [1,2,3]\n",
    "b_list = [4,5,6,7,8,9,10]\n",
    "for a, b in zip(a_list, b_list):\n",
    "    print('a: {}  --  b: {}'.format(a,b))"
   ]
  },
  {
   "cell_type": "code",
   "execution_count": 7,
   "metadata": {},
   "outputs": [
    {
     "name": "stdout",
     "output_type": "stream",
     "text": [
      "[4, 5, 6]\n"
     ]
    }
   ],
   "source": [
    "tmp = map(lambda x: x + 3, [1,2,3])\n",
    "print(list(tmp))"
   ]
  },
  {
   "cell_type": "markdown",
   "metadata": {},
   "source": [
    "### Default dicts"
   ]
  },
  {
   "cell_type": "code",
   "execution_count": 8,
   "metadata": {},
   "outputs": [
    {
     "name": "stdout",
     "output_type": "stream",
     "text": [
      "Default integer dict:\n",
      "defaultdict(<class 'int'>, {})\n",
      "\n",
      "Keys are initally empty:\n",
      "dict_keys([])\n",
      "\n",
      "Can call a missing key, will return 0:\n",
      "0\n",
      "\n",
      "Key is then added to dictionary:\n",
      "dict_keys(['test_key'])\n"
     ]
    }
   ],
   "source": [
    "from collections import defaultdict\n",
    "\n",
    "print('Default integer dict:')\n",
    "d = defaultdict(int)\n",
    "print(d)\n",
    "\n",
    "print('\\nKeys are initally empty:')\n",
    "print(d.keys())\n",
    "\n",
    "print('\\nCan call a missing key, will return 0:')\n",
    "print(d['test_key'])\n",
    "\n",
    "print('\\nKey is then added to dictionary:')\n",
    "print(d.keys())"
   ]
  },
  {
   "cell_type": "code",
   "execution_count": 9,
   "metadata": {},
   "outputs": [
    {
     "name": "stdout",
     "output_type": "stream",
     "text": [
      "Dictionary with -1 as the default value:\n",
      "-1\n"
     ]
    }
   ],
   "source": [
    "print('Dictionary with -1 as the default value:')\n",
    "d = defaultdict(lambda: -1)\n",
    "print(d['test_key'])"
   ]
  },
  {
   "cell_type": "code",
   "execution_count": 10,
   "metadata": {},
   "outputs": [
    {
     "name": "stdout",
     "output_type": "stream",
     "text": [
      "Dictionary with an list dictionary as the default value:\n",
      "[1, 2, 3]\n"
     ]
    }
   ],
   "source": [
    "print('Dictionary with an list dictionary as the default value:')\n",
    "d = defaultdict(lambda: defaultdict(lambda: [1,2,3]))\n",
    "print(d['test_key_1']['test_key_2'])"
   ]
  },
  {
   "cell_type": "markdown",
   "metadata": {},
   "source": [
    "### Numpy"
   ]
  },
  {
   "cell_type": "code",
   "execution_count": 8,
   "metadata": {},
   "outputs": [
    {
     "name": "stdout",
     "output_type": "stream",
     "text": [
      "['t' 'e' 's' 't']\n",
      "test\n",
      "0 -- t\n",
      "1 -- e\n",
      "2 -- s\n",
      "3 -- t\n",
      "['e' 't']\n"
     ]
    }
   ],
   "source": [
    "import numpy as np\n",
    "# String to array\n",
    "tmp = np.array(list('test'))\n",
    "print(tmp)\n",
    "print(''.join(tmp))\n",
    "for i, c in enumerate(tmp):\n",
    "    print('{} -- {}'.format(i, c))\n",
    "print(np.delete(tmp, [0,2]))"
   ]
  }
 ],
 "metadata": {
  "kernelspec": {
   "display_name": "Python 3",
   "language": "python",
   "name": "python3"
  },
  "language_info": {
   "codemirror_mode": {
    "name": "ipython",
    "version": 3
   },
   "file_extension": ".py",
   "mimetype": "text/x-python",
   "name": "python",
   "nbconvert_exporter": "python",
   "pygments_lexer": "ipython3",
   "version": "3.6.4"
  }
 },
 "nbformat": 4,
 "nbformat_minor": 4
}
